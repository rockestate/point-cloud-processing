{
 "cells": [
  {
   "cell_type": "code",
   "execution_count": null,
   "metadata": {},
   "outputs": [],
   "source": [
    "%%html\n",
    "<style>\n",
    ".cell.code_cell.unselected .input {\n",
    "    display: none;\n",
    "}\n",
    ".cell.selected~.unselected {\n",
    "    display: none;\n",
    "}\n",
    "</style>\n",
    "<style>\n",
    "div.imgContainer {\n",
    "    display: inline;\n",
    "}\n",
    "div.imgContainer img {\n",
    "    display:inline;\n",
    "}\n",
    "</style>"
   ]
  },
  {
   "cell_type": "markdown",
   "metadata": {},
   "source": [
    "# A tour of point cloud processing\n",
    "### Mathieu Carette\n",
    "Slides / notebook available at https://github.com/rockestate/point-cloud-processing"
   ]
  },
  {
   "cell_type": "markdown",
   "metadata": {},
   "source": [
    "# About me\n",
    "\n",
    "- PhD in Mathematics (ULB, 2009)\n",
    "- Postdocs (UIUC, UCLouvain, McGill)\n",
    "- Data Scientist (KBC, Forespell)\n",
    "- Now working on\n",
    "<a href=\"https://www.rockestate.be\">\n",
    "    <img src=\"../img/rockestate-logo-notext.png\" alt=\"Drawing\" style=\"width: 120px;\"/>\n",
    "    <p style=\"text-align: center; font-size: xx-large;\"><b>ROCKESTATE</b></p>\n",
    "</a>"
   ]
  },
  {
   "cell_type": "markdown",
   "metadata": {},
   "source": [
    "Favorite software stack:\n",
    "\n",
    "<div class=\"imgContainer\"><img src=\"../img/python-logo.png\" alt=\"Python logo\" style=\"width: 200px;\"/></div>\n",
    "<div class=\"imgContainer\"><img src=\"../img/jupyter_logo.png\" alt=\"Jupyter logo\" style=\"width: 200px;\"/></div>\n",
    "<div class=\"imgContainer\"><img src=\"../img/conda_logo.png\" alt=\"Conda logo\" style=\"width: 200px;\"/></div>"
   ]
  },
  {
   "cell_type": "markdown",
   "metadata": {},
   "source": [
    "# Where do 3D point clouds come from?"
   ]
  },
  {
   "cell_type": "code",
   "execution_count": null,
   "metadata": {},
   "outputs": [],
   "source": [
    "from IPython.display import YouTubeVideo\n",
    "YouTubeVideo('GSPcyhSAgTQ',start=7, end=31)"
   ]
  },
  {
   "cell_type": "markdown",
   "metadata": {},
   "source": [
    "Open LiDAR data for Brussels and Flanders : https://remotesensing.agiv.be/opendata/lidar/"
   ]
  },
  {
   "cell_type": "markdown",
   "metadata": {},
   "source": [
    "# File formats and software\n",
    "\n",
    "- [LAS](https://www.asprs.org/committee-general/laser-las-file-format-exchange-activities.html) standard file format\n",
    "- [LAZ](https://www.laszip.org/) compressed file format"
   ]
  },
  {
   "cell_type": "markdown",
   "metadata": {},
   "source": [
    "<div class=\"imgContainer\"><img src=\"../img/pcl_logo.png\" alt=\"PCL logo\" style=\"width: 200px;\"/></div>\n",
    "\n",
    "- [PCL](http://pointclouds.org/) <b>P</b>oint <b>C</b>loud <b>L</b>ibrary\n",
    "  - Open source: https://github.com/PointCloudLibrary/pcl\n",
    "  - C++\n",
    "  - Powerful general purpose algorithms"
   ]
  },
  {
   "cell_type": "markdown",
   "metadata": {},
   "source": [
    "<div class=\"imgContainer\"><img src=\"../img/cgal_logo.png\" alt=\"CGAL logo\" style=\"width: 200px;\"/></div>\n",
    "\n",
    "- [CGAL](https://www.cgal.org/) <b>C</b>omputational <b>G</b>eometry <b>A</b>lgorithms <b>L</b>ibrary\n",
    "  - Open source: https://github.com/CGAL/cgal\n",
    "  - C++\n",
    "  - State of the art 2D and 3D geometry algorithms"
   ]
  },
  {
   "cell_type": "markdown",
   "metadata": {},
   "source": [
    "<div class=\"imgContainer\"><img src=\"../img/pdal_logo.png\" alt=\"PDAL logo\" style=\"width: 200px;\"/></div>\n",
    "\n",
    "- [PDAL](https://www.pdal.io) <b>P</b>oint <b>D</b>ata <b>A</b>bstraction <b>L</b>ibrary\n",
    "  - Open source: https://github.com/PDAL/PDAL\n",
    "  - C++, command-line, python\n",
    "  - Wraps some PCL functionality\n",
    "  - For windows users: part of the [OSGeo4W](https://trac.osgeo.org/osgeo4w/) distribution"
   ]
  },
  {
   "cell_type": "markdown",
   "metadata": {},
   "source": [
    "<div class=\"imgContainer\"><img src=\"../img/lastools_logo.jpeg\" alt=\"LAStools logo\" style=\"width: 200px;\"/></div>\n",
    "\n",
    "- [LAStools](https://rapidlasso.com/lastools/) from RapidLasso\n",
    "  - Proprietary, preferred pricing for academic use\n",
    "  - Windows only, runs on wine\n",
    "  - command-line, GUI\n",
    "  - Open source [laszip](https://www.laszip.org) compression/decompression: https://github.com/LASzip/LASzip"
   ]
  },
  {
   "cell_type": "markdown",
   "metadata": {},
   "source": [
    "# Let's process some point clouds"
   ]
  },
  {
   "cell_type": "code",
   "execution_count": null,
   "metadata": {},
   "outputs": [],
   "source": [
    "import glob\n",
    "import io\n",
    "import ipyleaflet\n",
    "import IPython.display\n",
    "import ipyvolume.pylab as p3\n",
    "import json\n",
    "import matplotlib.cm\n",
    "import matplotlib.pyplot as plt\n",
    "import numpy as np\n",
    "import os\n",
    "import pandas as pd\n",
    "import pdal\n",
    "import PIL\n",
    "import pyproj\n",
    "import requests\n",
    "import shapely.geometry\n",
    "import scipy.spatial\n",
    "import sys\n",
    "import urllib.request\n",
    "\n",
    "%load_ext autoreload\n",
    "%autoreload 2\n",
    "    \n",
    "sys.path.append('../src')\n",
    "from pcl_utils import local_max\n",
    "\n",
    "# Url for aerial imagery\n",
    "IVaerial = \"https://geoservices.informatievlaanderen.be/raadpleegdiensten/ogw/wms?SERVICE=WMS&VERSION=1.3.0&REQUEST=GetMap&CRS=EPSG:31370&BBOX={0},{1},{2},{3}&WIDTH=512&HEIGHT=512&LAYERS=OGWRGB13_15VL&STYLES=default&FORMAT=image/png\"\n",
    "\n",
    "%matplotlib inline"
   ]
  },
  {
   "cell_type": "code",
   "execution_count": null,
   "metadata": {},
   "outputs": [],
   "source": [
    "# Download the LAS data file if not already present\n",
    "if not os.path.isdir('../data'):\n",
    "    os.makedirs('../data')\n",
    "lidar_filename = 'LiDAR_DHMV_2_P4_ATL12431_ES_20140325_31195_2_150500_166500.las'\n",
    "if not os.path.isfile('../data/' + lidar_filename):\n",
    "    urllib.request.urlretrieve('https://s3-eu-west-1.amazonaws.com/rockestate-public/lidar/' + lidar_filename, \n",
    "                               '../data/' + lidar_filename)"
   ]
  },
  {
   "cell_type": "code",
   "execution_count": null,
   "metadata": {},
   "outputs": [],
   "source": [
    "m = ipyleaflet.Map(center=(50.81343, 4.38188), zoom=16)\n",
    "dc = ipyleaflet.DrawControl()\n",
    "m.add_control(dc)\n",
    "m"
   ]
  },
  {
   "cell_type": "code",
   "execution_count": null,
   "metadata": {},
   "outputs": [],
   "source": [
    "wsg84 = pyproj.Proj(init='epsg:4326')\n",
    "lambert = pyproj.Proj(init='epsg:31370')\n",
    "coords = [pyproj.transform(wsg84,lambert,x,y) for (x,y) in dc.last_draw['geometry']['coordinates'][0]]\n",
    "polygon = shapely.geometry.Polygon(coords)\n",
    "print(polygon.wkt)\n",
    "IPython.display.display(polygon)"
   ]
  },
  {
   "cell_type": "code",
   "execution_count": null,
   "metadata": {},
   "outputs": [],
   "source": [
    "b = polygon.bounds\n",
    "cropper = {\n",
    "    \"pipeline\": [ '../data/'+ lidar_filename,\n",
    "        {   \"type\":\"filters.crop\",\n",
    "            'bounds':str(([b[0], b[2]],[b[1], b[3]]))},\n",
    "        {   \"type\":\"filters.crop\",\n",
    "            'polygon':polygon.wkt},\n",
    "        {   \"type\":\"filters.hag_delaunay\"},\n",
    "        {   \"type\":\"filters.eigenvalues\",\n",
    "            \"knn\":16},\n",
    "        {   \"type\":\"filters.normal\",\n",
    "            \"knn\":16}\n",
    "    ]}\n",
    "pipeline = pdal.Pipeline(json.dumps(cropper))\n",
    "pipeline.validate()\n",
    "%time n_points = pipeline.execute()\n",
    "print('Pipeline selected {} points ({:.1f} pts/m2)'.format(n_points, n_points/polygon.area))"
   ]
  },
  {
   "cell_type": "code",
   "execution_count": null,
   "metadata": {},
   "outputs": [],
   "source": [
    "# Load Pipeline output in python objects\n",
    "arr = pipeline.arrays[0]\n",
    "description = arr.dtype.descr\n",
    "cols = [col for col, __ in description]\n",
    "df = pd.DataFrame({col: arr[col] for col in cols})\n",
    "df['X_0'] = df['X']\n",
    "df['Y_0'] = df['Y']\n",
    "df['Z_0'] = df['Z']\n",
    "df['X'] = df['X'] - df['X_0'].min()\n",
    "df['Y'] = df['Y'] - df['Y_0'].min()\n",
    "df['Z'] = df['Z'] - df['Z_0'].min()"
   ]
  },
  {
   "cell_type": "code",
   "execution_count": null,
   "metadata": {
    "slideshow": {
     "slide_type": "-"
    }
   },
   "outputs": [],
   "source": [
    "fig = p3.figure(width=1000)\n",
    "fig.xlabel='Y'\n",
    "fig.ylabel='Z'\n",
    "fig.zlabel='X'\n",
    "all_points = p3.scatter(df['Y'], df['Z'], df['X'], color='red', size=.2)\n",
    "p3.squarelim()\n",
    "p3.show()"
   ]
  },
  {
   "cell_type": "code",
   "execution_count": null,
   "metadata": {},
   "outputs": [],
   "source": [
    "%%javascript\n",
    "// prevent click on the widget to jump throughout the notebook\n",
    "$(\".jupyter-widgets-view\").click(function(e){e.stopPropagation();})"
   ]
  },
  {
   "cell_type": "code",
   "execution_count": null,
   "metadata": {},
   "outputs": [],
   "source": [
    "# Color ground in grey\n",
    "df['ground'] = df['Classification']!=1\n",
    "ground = p3.scatter(df.loc[df['ground'],'Y'].values, df.loc[df['ground'],'Z'].values, df.loc[df['ground'],'X'].values, color='red', size=.2)\n",
    "non_ground = p3.scatter(df.loc[~df['ground'],'Y'].values, df.loc[~df['ground'],'Z'].values, df.loc[~df['ground'],'X'].values, color='red', size=.2)\n",
    "fig.scatters.append(ground)\n",
    "fig.scatters.append(non_ground)\n",
    "all_points.visible = False\n",
    "ground.color='lightgrey'"
   ]
  },
  {
   "cell_type": "code",
   "execution_count": null,
   "metadata": {},
   "outputs": [],
   "source": [
    "# Show ground as surface\n",
    "ground_delaunay = scipy.spatial.Delaunay(df.loc[df['ground'],['X','Y']])\n",
    "ground_surf = p3.plot_trisurf(df.loc[df['ground'],'Y'], df.loc[df['ground'],'Z'], df.loc[df['ground'],'X'], ground_delaunay.simplices, color='lightgrey')\n",
    "fig.meshes.append(ground_surf)\n",
    "ground.visible=False"
   ]
  },
  {
   "cell_type": "code",
   "execution_count": null,
   "metadata": {},
   "outputs": [],
   "source": [
    "# Color points according to flatness\n",
    "df['flatness'] = df['Eigenvalue0'] \n",
    "non_ground.color=matplotlib.cm.viridis(df.loc[~df['ground'],'flatness']*4)[:,0:3]"
   ]
  },
  {
   "cell_type": "code",
   "execution_count": null,
   "metadata": {},
   "outputs": [],
   "source": [
    "# Separate between trees and the rest\n",
    "df['tree_potential'] = (df['Classification']==1) & (df['HeightAboveGround'] >= 2) & (df['flatness'] > .05) &  (df['NumberOfReturns'] - df['ReturnNumber'] >= 1) \n",
    "df['other'] = ~df['ground'] & ~df['tree_potential']\n",
    "tree_potential = p3.scatter(df.loc[df['tree_potential'],'Y'].values, df.loc[df['tree_potential'],'Z'].values, df.loc[df['tree_potential'],'X'].values, color=matplotlib.cm.viridis(df.loc[df['tree_potential'],'flatness']*4)[:,0:3], size=.2)\n",
    "other = p3.scatter(df.loc[df['other'],'Y'].values, df.loc[df['other'],'Z'].values, df.loc[df['other'],'X'].values, color=matplotlib.cm.viridis(df.loc[df['other'],'flatness']*4)[:,0:3], size=.2)\n",
    "non_ground.visible=False\n",
    "tree_potential.color='darkgreen'\n",
    "other.color='red'"
   ]
  },
  {
   "cell_type": "code",
   "execution_count": null,
   "metadata": {},
   "outputs": [],
   "source": [
    "#Hide non-tree\n",
    "other.visible=False"
   ]
  },
  {
   "cell_type": "code",
   "execution_count": null,
   "metadata": {},
   "outputs": [],
   "source": [
    "lep = local_max(df.loc[df['tree_potential'],['X','Y','Z','HeightAboveGround']], radius=3, density_threshold=15)"
   ]
  },
  {
   "cell_type": "code",
   "execution_count": null,
   "metadata": {},
   "outputs": [],
   "source": [
    "treetop_spheres = p3.scatter(lep['Y'].values, lep['Z'].values, lep['X'].values, color='red', size=.5, marker='sphere')\n",
    "fig.scatters.append(treetop_spheres)"
   ]
  },
  {
   "cell_type": "code",
   "execution_count": null,
   "metadata": {},
   "outputs": [],
   "source": [
    "treetop_spheres.color = matplotlib.cm.tab20(np.arange(len(lep['Z']))%10)[:,0:3]"
   ]
  },
  {
   "cell_type": "code",
   "execution_count": null,
   "metadata": {},
   "outputs": [],
   "source": [
    "kdtree = scipy.spatial.kdtree.KDTree(lep[['X','Y','Z']])\n",
    "dist, idx = kdtree.query(df.loc[df['tree_potential'],['X','Y','Z']].values)\n",
    "tree_potential.color=matplotlib.cm.tab20(idx%10)[:,0:3]\n",
    "df.loc[df['tree_potential'], 'tree_idx'] = idx"
   ]
  },
  {
   "cell_type": "code",
   "execution_count": null,
   "metadata": {},
   "outputs": [],
   "source": [
    "medians = df.groupby('tree_idx')[['X','Y','Z']].median()\n",
    "for axis in ['X','Y','Z']:\n",
    "    df['d'+axis] = df[axis] - df['tree_idx'].map(medians[axis])\n",
    "df['radius'] = np.linalg.norm(df[['dX', 'dY', 'dZ']].values, axis=1)\n",
    "radii = pd.DataFrame([df.groupby('tree_idx')['radius'].quantile(.5), lep['HeightAboveGround'].values*.4]).min()"
   ]
  },
  {
   "cell_type": "code",
   "execution_count": null,
   "metadata": {},
   "outputs": [],
   "source": [
    "scale = max(df['X'].max() - df['X'].min(), df['Y'].max() - df['Y'].min())\n",
    "treetop_spheres.x = medians['Y']\n",
    "treetop_spheres.y = medians['Z']\n",
    "treetop_spheres.z = medians['X']\n",
    "treetop_spheres.size = radii * 100 / scale"
   ]
  },
  {
   "cell_type": "code",
   "execution_count": null,
   "metadata": {},
   "outputs": [],
   "source": [
    "tree_potential.visible = False"
   ]
  },
  {
   "cell_type": "code",
   "execution_count": null,
   "metadata": {},
   "outputs": [],
   "source": [
    "other.visible = True\n",
    "treetop_spheres.color='darkgreen'\n",
    "p3.style.use('minimal')"
   ]
  },
  {
   "cell_type": "markdown",
   "metadata": {},
   "source": [
    "# Building Modeling"
   ]
  },
  {
   "cell_type": "code",
   "execution_count": null,
   "metadata": {},
   "outputs": [],
   "source": [
    "m2 = ipyleaflet.Map(center=(50.81343, 4.38188), zoom=17)\n",
    "dc2 = ipyleaflet.DrawControl()\n",
    "m2.add_control(dc2)\n",
    "m2"
   ]
  },
  {
   "cell_type": "code",
   "execution_count": null,
   "metadata": {},
   "outputs": [],
   "source": [
    "wsg84 = pyproj.Proj(init='epsg:4326')\n",
    "lambert = pyproj.Proj(init='epsg:31370')\n",
    "coords = [pyproj.transform(wsg84,lambert,x,y) for (x,y) in dc2.last_draw['geometry']['coordinates'][0]]\n",
    "polygon2 = shapely.geometry.Polygon(coords)\n",
    "print(polygon2)\n",
    "IPython.display.display(polygon2)"
   ]
  },
  {
   "cell_type": "code",
   "execution_count": null,
   "metadata": {},
   "outputs": [],
   "source": [
    "b = polygon2.bounds\n",
    "cropper = {\n",
    "    \"pipeline\": list(glob.glob('../data/*150500_166500.las')) + [ # [ '../data/' + lidar_filename,\n",
    "        {   \"type\":\"filters.crop\",\n",
    "            'bounds':str(([b[0], b[2]],[b[1], b[3]]))},\n",
    "        {   \"type\":\"filters.merge\"},\n",
    "        {   \"type\":\"filters.hag_delaunay\"},\n",
    "        {   \"type\":\"filters.crop\",\n",
    "            'polygon':polygon2.wkt},\n",
    "        {   \"type\":\"filters.eigenvalues\",\n",
    "            \"knn\":16},\n",
    "        {   \"type\":\"filters.normal\",\n",
    "            \"knn\":16}\n",
    "    ]}\n",
    "pipeline = pdal.Pipeline(json.dumps(cropper))\n",
    "pipeline.validate()\n",
    "%time n_points = pipeline.execute()\n",
    "print('Pipeline selected {} points ({:.1f} pts/m2)'.format(n_points, n_points/polygon2.area))"
   ]
  },
  {
   "cell_type": "code",
   "execution_count": null,
   "metadata": {},
   "outputs": [],
   "source": [
    "arr = pipeline.arrays[0]\n",
    "description = arr.dtype.descr\n",
    "cols = [col for col, __ in description]\n",
    "df = pd.DataFrame({col: arr[col] for col in cols})\n",
    "df['X_0'] = df['X']\n",
    "df['Y_0'] = df['Y']\n",
    "df['Z_0'] = df['Z']\n",
    "df['X'] = df['X'] - df['X_0'].mean()\n",
    "df['Y'] = df['Y'] - df['Y_0'].mean()\n",
    "df['Z'] = df['Z'] - df['Z_0'].min()\n",
    "df.loc[df['HeightAboveGround'] < .2,'Classification'] = 2"
   ]
  },
  {
   "cell_type": "code",
   "execution_count": null,
   "metadata": {},
   "outputs": [],
   "source": [
    "fig = p3.figure(width=1000)\n",
    "fig.xlabel='Y'\n",
    "fig.ylabel='Z'\n",
    "fig.zlabel='X'\n",
    "ground_delaunay = scipy.spatial.Delaunay(df.loc[df['Classification'] != 1, ['X','Y']])\n",
    "ground = p3.plot_trisurf(df.loc[df['Classification'] != 1,'Y'].values, df.loc[df['Classification'] != 1,'Z'].values, df.loc[df['Classification'] != 1,'X'].values, triangles = ground_delaunay.simplices, color='lightgrey')\n",
    "non_ground = p3.scatter(df.loc[df['Classification'] == 1,'Y'].values, df.loc[df['Classification'] == 1,'Z'].values, df.loc[df['Classification'] == 1,'X'].values, color='red', size=.2)\n",
    "p3.squarelim()\n",
    "p3.show()"
   ]
  },
  {
   "cell_type": "code",
   "execution_count": null,
   "metadata": {},
   "outputs": [],
   "source": [
    "%%javascript\n",
    "// prevent click on the widget to jump throughout the notebook\n",
    "$(\".jupyter-widgets-view\").click(function(e){e.stopPropagation();})"
   ]
  },
  {
   "cell_type": "code",
   "execution_count": null,
   "metadata": {},
   "outputs": [],
   "source": [
    "roof_mask = (df['Classification'] == 1) & (df['HeightAboveGround'] > 7) & (df['Eigenvalue0'] <= .02) & (df['NumberOfReturns'] == df['ReturnNumber'])"
   ]
  },
  {
   "cell_type": "code",
   "execution_count": null,
   "metadata": {},
   "outputs": [],
   "source": [
    "roof_quiver = p3.quiver(df.loc[roof_mask,'Y'].values,df.loc[roof_mask,'Z'].values,df.loc[roof_mask,'X'].values, df.loc[roof_mask,'NormalY'].values, df.loc[roof_mask,'NormalZ'].values, df.loc[roof_mask,'NormalX'].values, size=2)\n",
    "fig.scatters.append(roof_quiver)\n",
    "non_ground.visible=False"
   ]
  },
  {
   "cell_type": "code",
   "execution_count": null,
   "metadata": {},
   "outputs": [],
   "source": [
    "roof_quiver.x = df.loc[roof_mask,'NormalY'] *15\n",
    "roof_quiver.y = df.loc[roof_mask,'NormalZ'] *15 + df['Z'].median()\n",
    "roof_quiver.z = df.loc[roof_mask,'NormalX'] *15"
   ]
  },
  {
   "cell_type": "code",
   "execution_count": null,
   "metadata": {},
   "outputs": [],
   "source": [
    "roof_quiver.visible = False\n",
    "non_ground.visible = True"
   ]
  },
  {
   "cell_type": "code",
   "execution_count": null,
   "metadata": {},
   "outputs": [],
   "source": [
    "# Find building orientation using normals\n",
    "alphas = np.linspace(0, np.pi, num=180)\n",
    "magnitude = [np.abs(df.loc[roof_mask,['NormalX','NormalY']].values @ np.array([np.cos(alpha), np.sin(alpha)])).sum()\n",
    "             for alpha in alphas]\n",
    "angle = alphas[np.argmin(magnitude)]"
   ]
  },
  {
   "cell_type": "code",
   "execution_count": null,
   "metadata": {},
   "outputs": [],
   "source": [
    "# Rotate building to align walls with X & Y axes\n",
    "Rotation = np.array([[np.cos(angle), np.sin(angle)],[-np.sin(angle), np.cos(angle)]])\n",
    "df['X_r'], df['Y_r'] = (df[['X','Y']].values @ Rotation[i] for i in (0,1))\n",
    "df['NormalX_r'], df['NormalY_r'] = (df[['NormalX','NormalY']].values @ Rotation[i] for i in (0,1))\n",
    "ground.x, ground.z = df.loc[df['Classification']!= 1, 'Y_r'], df.loc[df['Classification']!= 1, 'X_r']\n",
    "non_ground.x, non_ground.z = df.loc[df['Classification']== 1, 'Y_r'], df.loc[df['Classification']== 1, 'X_r']"
   ]
  },
  {
   "cell_type": "code",
   "execution_count": null,
   "metadata": {},
   "outputs": [],
   "source": [
    "# Build 3D model in rotated coordinates\n",
    "z0 = df.loc[~roof_mask,'Z'].median()\n",
    "ystep = (df.loc[roof_mask,'Y_r']*4).astype(int)/4\n",
    "y_profile = (df[roof_mask].groupby(ystep)['Z'].quantile(.99).rolling(window=5).min()).shift(-1).fillna(z0)\n",
    "xstep = np.linspace(df.loc[roof_mask,'X_r'].quantile(.01), df.loc[roof_mask,'X_r'].quantile(.99), len(ystep.unique()))\n",
    "X,Y = np.meshgrid(xstep, ystep.sort_values().unique())\n",
    "Z = y_profile[Y.ravel()].values.reshape(Y.shape)"
   ]
  },
  {
   "cell_type": "code",
   "execution_count": null,
   "metadata": {},
   "outputs": [],
   "source": [
    "# Plot 3D model\n",
    "df_extra = pd.DataFrame({'X_r':X.ravel(),'Y_r':Y.ravel(),'Z': Z.ravel()})\n",
    "df_extra.loc[df_extra['X_r'] == df_extra['X_r'].max(), 'Z'] = z0\n",
    "df_extra.loc[df_extra['X_r'] == df_extra['X_r'].min(), 'Z'] = z0\n",
    "roof_delaunay = scipy.spatial.Delaunay(df_extra[['X_r','Y_r']])\n",
    "roof_model = p3.plot_trisurf(df_extra['Y_r'],df_extra['Z'],df_extra['X_r'], triangles=roof_delaunay.simplices, color='red')\n",
    "fig.meshes.append(roof_model)"
   ]
  },
  {
   "cell_type": "code",
   "execution_count": null,
   "metadata": {},
   "outputs": [],
   "source": [
    "# Go back to original coordinates\n",
    "df_extra['X'], df_extra['Y'] = (df_extra[['X_r','Y_r']].values @ np.linalg.inv(Rotation)[i] for i in (0,1))\n",
    "df_extra['Classification'] = 6\n",
    "ground.x, ground.z = [df.loc[df['Classification']!= 1, axis] for axis in ['Y','X']]\n",
    "non_ground.visible=False\n",
    "roof_model.x, roof_model.z = df_extra['Y'], df_extra['X']"
   ]
  },
  {
   "cell_type": "code",
   "execution_count": null,
   "metadata": {},
   "outputs": [],
   "source": [
    "# Add texture to the ground\n",
    "response = requests.get(IVaerial.format(*b))\n",
    "texture = PIL.Image.open(io.BytesIO(response.content))\n",
    "ground.u = (df.loc[df['Classification'] != 1, 'X_0'] - b[0]) / (b[2] - b[0])\n",
    "ground.v = (df.loc[df['Classification'] != 1, 'Y_0'] - b[1]) / (b[3] - b[1])\n",
    "ground.texture = texture"
   ]
  },
  {
   "cell_type": "code",
   "execution_count": null,
   "metadata": {},
   "outputs": [],
   "source": [
    "# ... and to the building\n",
    "df_extra['X_0'] = df_extra['X'] + df['X_0'].mean()\n",
    "df_extra['Y_0'] = df_extra['Y'] + df['Y_0'].mean()\n",
    "roof_model.u = (df_extra['X_0'] - b[0]) / (b[2] - b[0])\n",
    "roof_model.v = (df_extra['Y_0'] - b[1]) / (b[3] - b[1])\n",
    "roof_model.texture = texture\n",
    "p3.style.use('minimal')"
   ]
  },
  {
   "cell_type": "markdown",
   "metadata": {},
   "source": [
    " "
   ]
  },
  {
   "cell_type": "markdown",
   "metadata": {},
   "source": [
    "# Things to look out for"
   ]
  },
  {
   "cell_type": "markdown",
   "metadata": {},
   "source": [
    "## pdal\n",
    "- Fast point-in-polygon algorithm implemented\n",
    "- Apache arrow support\n",
    "- Conda packaging"
   ]
  },
  {
   "cell_type": "markdown",
   "metadata": {},
   "source": [
    "## jupyter\n",
    "- C++ jupyter kernels \n",
    "- Jupyterlab"
   ]
  },
  {
   "cell_type": "markdown",
   "metadata": {},
   "source": [
    "# Thank you!"
   ]
  },
  {
   "cell_type": "code",
   "execution_count": null,
   "metadata": {},
   "outputs": [],
   "source": []
  }
 ],
 "metadata": {
  "kernelspec": {
   "display_name": "Python 3",
   "language": "python",
   "name": "python3"
  },
  "language_info": {
   "codemirror_mode": {
    "name": "ipython",
    "version": 3
   },
   "file_extension": ".py",
   "mimetype": "text/x-python",
   "name": "python",
   "nbconvert_exporter": "python",
   "pygments_lexer": "ipython3",
   "version": "3.6.6"
  }
 },
 "nbformat": 4,
 "nbformat_minor": 2
}
